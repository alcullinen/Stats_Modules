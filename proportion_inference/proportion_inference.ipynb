{
 "cells": [
  {
   "cell_type": "raw",
   "metadata": {
    "vscode": {
     "languageId": "raw"
    }
   },
   "source": [
    "# ASSIGNMENT CONFIG\n",
    "init_cell: true \n",
    "export_cell: false\n",
    "solutions_pdf: true\n",
    "template_pdf: false\n",
    "generate:\n",
    "    points_possible: 100\n",
    "    show_stdout: true\n",
    "    zips: false"
   ]
  },
  {
   "cell_type": "markdown",
   "metadata": {},
   "source": [
    "# Inference for Categorical Data\n",
    "\n",
    "### Confidence Intervals and Hypothesis Tests for Proportions from One and Two Populations\n",
    "\n",
    "In this interactive notebook, we will work as statisticians to investigate the data from a published study.\n",
    "\n",
    "The goal of this activity is to review some of the course material from module 1 by:\n",
    "- Importing data collected by the World Trade Organization (WTO)\n",
    "- Focusing in on data of interest by looking at it in a tabular format\n",
    "- Visualizing the data using graphs and maps\n",
    "- Observing, ask questions, and learn from the data\n",
    "\n",
    "We will ...\n",
    "- Introduce jupyter notebooks as an interactive learning platform\n",
    "- Review some concepts and terminology around maps\n",
    "- Compare 2 countries (USA and Haiti), their location, colonial history & uneven economic regional growth\n",
    "\n"
   ]
  },
  {
   "cell_type": "markdown",
   "metadata": {},
   "source": [
    "# 1. What is a Jupyter notebook?\n",
    "This webpage is called a Jupyter notebook. A notebook is a place to write code and view their results, and also to write text.\n",
    "In a notebook, each rectangle containing text or code is called a *cell*.\n",
    "\n",
    "**Text cells** (like this one) can be edited by double-clicking on them. They're written in a simple format called [Markdown](http://daringfireball.net/projects/markdown/syntax) to add formatting and section headings.\n",
    "After you edit a text cell, click the \"run cell\" button at the top that looks like ▶| or hold down `shift` + `return` to confirm any changes. \n",
    "\n",
    "**Code cells** contain code in the Python 3 language. Running a code cell will execute all of the code it contains.\n",
    "To run the code in a code cell, first click on that cell to activate it.  It'll be highlighted with a little green or blue rectangle.  Next, either press ▶| or hold down `shift` + `return`."
   ]
  },
  {
   "cell_type": "markdown",
   "metadata": {},
   "source": [
    "**Activity 1:** This is a text cell. It is the cell type where we can type text that isn't code. Go ahead and double click in this cell and you will see that you can edit it. \n",
    "\n",
    "**Type something here:** ....\n"
   ]
  },
  {
   "cell_type": "markdown",
   "metadata": {},
   "source": [
    "**Activity 2:** Click on the code cell below and run the code:"
   ]
  },
  {
   "cell_type": "code",
   "execution_count": 5,
   "metadata": {},
   "outputs": [
    {
     "name": "stdout",
     "output_type": "stream",
     "text": [
      "Hello, World! 🌏!\n"
     ]
    }
   ],
   "source": [
    "#This cell is a code cell. It is where we can type code that can be executed.\n",
    "#The hashtag at the start of this line makes it so that this text is a comment not code. \n",
    "\n",
    "print(\"Hello, World! \\N{EARTH GLOBE ASIA-AUSTRALIA}!\")"
   ]
  },
  {
   "cell_type": "markdown",
   "metadata": {},
   "source": [
    "And this one:"
   ]
  },
  {
   "cell_type": "code",
   "execution_count": 6,
   "metadata": {
    "read_only": true
   },
   "outputs": [],
   "source": [
    "# This coding cell imports some python libraries that we will be using throughout this notebook\n",
    "# Don't worry about what they are, just run this cell before running any other cells below this one\n",
    "from datascience import *\n",
    "import numpy as np\n",
    "import otter\n",
    "grader = otter.Notebook(\"mod01.ipynb\")\n",
    "\n",
    "%matplotlib inline\n",
    "import matplotlib.pyplot as plt\n",
    "plt.style.use('fivethirtyeight')\n",
    "\n",
    "import folium\n",
    "def createMap(locationInit, zoomInit, marker1Location, marker1Name, marker2Location, marker2Name):\n",
    "    myMap = folium.Map(location=locationInit, tiles=\"OpenStreetMap\", zoom_start= zoomInit)\n",
    "    folium.Marker(marker1Location, popup = marker1Name).add_to(myMap)\n",
    "    folium.Marker(location = marker2Location, popup = marker2Name).add_to(myMap)\n",
    "    return myMap\n",
    "\n",
    "from IPython.display import YouTubeVideo"
   ]
  },
  {
   "cell_type": "markdown",
   "metadata": {},
   "source": [
    "# 2. Comparing 2 locations and their colonial history\n",
    "Before you continue, make sure to review the following 2 lectures:\n",
    "- Regional economic growth lecture! \n",
    "- Uneven economic development lecture: Haiti\n",
    "\n",
    "# 2.1 Maps\n",
    "In this section we will start with a map. We will look at the 2 first colonies in the Americas that become independent and their location. We will compare the difference in their geographies in terms of latitude, longitude and climate, and discuss how this affected who settled there. \n",
    "In this section, we will look at how the location of the 2 first colonies in the Americas that become independent and their location: **The 13 colonies (early USA)** and **Haiti**. \n",
    "\n",
    "Both locations have similarities and differences when locating them on the map:\n",
    "\n",
    "**Question 2.1** Let's first have a look at their locations on the map! In the coding cell below:\n",
    "- Set **penn_lat** and **penn_long** equal to the latitude and longitude of Philadelphia, PA (the original capital of the 13 colonies)\n",
    "- Set **port_au_prince_lat** and **port_au_prince_long** equal to the latitude and longitude of Port-au-Prince, Haiti (the capital of Haiti)\n",
    "\n",
    "HINT: You can use [Google Maps](https://www.google.com/maps) and if you have a PC, right click on a location to get the coordinates (latitude and longitude), if you have a Mac, single click with 2 fingers.\n"
   ]
  },
  {
   "cell_type": "raw",
   "metadata": {
    "vscode": {
     "languageId": "raw"
    }
   },
   "source": [
    "# BEGIN QUESTION\n",
    "name: q21"
   ]
  },
  {
   "cell_type": "raw",
   "metadata": {
    "vscode": {
     "languageId": "raw"
    }
   },
   "source": [
    "# BEGIN SOLUTION"
   ]
  },
  {
   "cell_type": "code",
   "execution_count": 7,
   "metadata": {},
   "outputs": [
    {
     "data": {
      "text/html": [
       "<div style=\"width:100%;\"><div style=\"position:relative;width:100%;height:0;padding-bottom:60%;\"><span style=\"color:#565656\">Make this Notebook Trusted to load map: File -> Trust Notebook</span><iframe srcdoc=\"&lt;!DOCTYPE html&gt;\n",
       "&lt;html&gt;\n",
       "&lt;head&gt;\n",
       "    \n",
       "    &lt;meta http-equiv=&quot;content-type&quot; content=&quot;text/html; charset=UTF-8&quot; /&gt;\n",
       "    \n",
       "        &lt;script&gt;\n",
       "            L_NO_TOUCH = false;\n",
       "            L_DISABLE_3D = false;\n",
       "        &lt;/script&gt;\n",
       "    \n",
       "    &lt;style&gt;html, body {width: 100%;height: 100%;margin: 0;padding: 0;}&lt;/style&gt;\n",
       "    &lt;style&gt;#map {position:absolute;top:0;bottom:0;right:0;left:0;}&lt;/style&gt;\n",
       "    &lt;script src=&quot;https://cdn.jsdelivr.net/npm/leaflet@1.9.3/dist/leaflet.js&quot;&gt;&lt;/script&gt;\n",
       "    &lt;script src=&quot;https://code.jquery.com/jquery-1.12.4.min.js&quot;&gt;&lt;/script&gt;\n",
       "    &lt;script src=&quot;https://cdn.jsdelivr.net/npm/bootstrap@5.2.2/dist/js/bootstrap.bundle.min.js&quot;&gt;&lt;/script&gt;\n",
       "    &lt;script src=&quot;https://cdnjs.cloudflare.com/ajax/libs/Leaflet.awesome-markers/2.0.2/leaflet.awesome-markers.js&quot;&gt;&lt;/script&gt;\n",
       "    &lt;link rel=&quot;stylesheet&quot; href=&quot;https://cdn.jsdelivr.net/npm/leaflet@1.9.3/dist/leaflet.css&quot;/&gt;\n",
       "    &lt;link rel=&quot;stylesheet&quot; href=&quot;https://cdn.jsdelivr.net/npm/bootstrap@5.2.2/dist/css/bootstrap.min.css&quot;/&gt;\n",
       "    &lt;link rel=&quot;stylesheet&quot; href=&quot;https://netdna.bootstrapcdn.com/bootstrap/3.0.0/css/bootstrap.min.css&quot;/&gt;\n",
       "    &lt;link rel=&quot;stylesheet&quot; href=&quot;https://cdn.jsdelivr.net/npm/@fortawesome/fontawesome-free@6.2.0/css/all.min.css&quot;/&gt;\n",
       "    &lt;link rel=&quot;stylesheet&quot; href=&quot;https://cdnjs.cloudflare.com/ajax/libs/Leaflet.awesome-markers/2.0.2/leaflet.awesome-markers.css&quot;/&gt;\n",
       "    &lt;link rel=&quot;stylesheet&quot; href=&quot;https://cdn.jsdelivr.net/gh/python-visualization/folium/folium/templates/leaflet.awesome.rotate.min.css&quot;/&gt;\n",
       "    \n",
       "            &lt;meta name=&quot;viewport&quot; content=&quot;width=device-width,\n",
       "                initial-scale=1.0, maximum-scale=1.0, user-scalable=no&quot; /&gt;\n",
       "            &lt;style&gt;\n",
       "                #map_504ec50ec9c1049b13bff185e035c06a {\n",
       "                    position: relative;\n",
       "                    width: 100.0%;\n",
       "                    height: 100.0%;\n",
       "                    left: 0.0%;\n",
       "                    top: 0.0%;\n",
       "                }\n",
       "                .leaflet-container { font-size: 1rem; }\n",
       "            &lt;/style&gt;\n",
       "        \n",
       "&lt;/head&gt;\n",
       "&lt;body&gt;\n",
       "    \n",
       "    \n",
       "            &lt;div class=&quot;folium-map&quot; id=&quot;map_504ec50ec9c1049b13bff185e035c06a&quot; &gt;&lt;/div&gt;\n",
       "        \n",
       "&lt;/body&gt;\n",
       "&lt;script&gt;\n",
       "    \n",
       "    \n",
       "            var map_504ec50ec9c1049b13bff185e035c06a = L.map(\n",
       "                &quot;map_504ec50ec9c1049b13bff185e035c06a&quot;,\n",
       "                {\n",
       "                    center: [33.0, -100.0],\n",
       "                    crs: L.CRS.EPSG3857,\n",
       "                    zoom: 2,\n",
       "                    zoomControl: true,\n",
       "                    preferCanvas: false,\n",
       "                }\n",
       "            );\n",
       "\n",
       "            \n",
       "\n",
       "        \n",
       "    \n",
       "            var tile_layer_4c218d9aa77cc8fd23fcb23ad3ddba4d = L.tileLayer(\n",
       "                &quot;https://{s}.tile.openstreetmap.org/{z}/{x}/{y}.png&quot;,\n",
       "                {&quot;attribution&quot;: &quot;Data by \\u0026copy; \\u003ca target=\\&quot;_blank\\&quot; href=\\&quot;http://openstreetmap.org\\&quot;\\u003eOpenStreetMap\\u003c/a\\u003e, under \\u003ca target=\\&quot;_blank\\&quot; href=\\&quot;http://www.openstreetmap.org/copyright\\&quot;\\u003eODbL\\u003c/a\\u003e.&quot;, &quot;detectRetina&quot;: false, &quot;maxNativeZoom&quot;: 18, &quot;maxZoom&quot;: 18, &quot;minZoom&quot;: 0, &quot;noWrap&quot;: false, &quot;opacity&quot;: 1, &quot;subdomains&quot;: &quot;abc&quot;, &quot;tms&quot;: false}\n",
       "            ).addTo(map_504ec50ec9c1049b13bff185e035c06a);\n",
       "        \n",
       "    \n",
       "            var marker_db6c5620716855b92d1db6cb885e12ce = L.marker(\n",
       "                [18.5333, -72.3333],\n",
       "                {}\n",
       "            ).addTo(map_504ec50ec9c1049b13bff185e035c06a);\n",
       "        \n",
       "    \n",
       "        var popup_866d12878ccf7dd43ec81d129f5cda76 = L.popup({&quot;maxWidth&quot;: &quot;100%&quot;});\n",
       "\n",
       "        \n",
       "            \n",
       "                var html_300f320ec74f9fd3c4924cad852e7d30 = $(`&lt;div id=&quot;html_300f320ec74f9fd3c4924cad852e7d30&quot; style=&quot;width: 100.0%; height: 100.0%;&quot;&gt;Port-au-Prince (Haiti)&lt;/div&gt;`)[0];\n",
       "                popup_866d12878ccf7dd43ec81d129f5cda76.setContent(html_300f320ec74f9fd3c4924cad852e7d30);\n",
       "            \n",
       "        \n",
       "\n",
       "        marker_db6c5620716855b92d1db6cb885e12ce.bindPopup(popup_866d12878ccf7dd43ec81d129f5cda76)\n",
       "        ;\n",
       "\n",
       "        \n",
       "    \n",
       "    \n",
       "            var marker_cc4ac01979b3bbb9f3d6e8aec707fd04 = L.marker(\n",
       "                [39.9526, -75.1652],\n",
       "                {}\n",
       "            ).addTo(map_504ec50ec9c1049b13bff185e035c06a);\n",
       "        \n",
       "    \n",
       "        var popup_187dc6f0cb537bf856c6e622eebd6253 = L.popup({&quot;maxWidth&quot;: &quot;100%&quot;});\n",
       "\n",
       "        \n",
       "            \n",
       "                var html_98f4c2684282b48359fab6b16013971e = $(`&lt;div id=&quot;html_98f4c2684282b48359fab6b16013971e&quot; style=&quot;width: 100.0%; height: 100.0%;&quot;&gt;Philadelphia, PA (13 Colonies)&lt;/div&gt;`)[0];\n",
       "                popup_187dc6f0cb537bf856c6e622eebd6253.setContent(html_98f4c2684282b48359fab6b16013971e);\n",
       "            \n",
       "        \n",
       "\n",
       "        marker_cc4ac01979b3bbb9f3d6e8aec707fd04.bindPopup(popup_187dc6f0cb537bf856c6e622eebd6253)\n",
       "        ;\n",
       "\n",
       "        \n",
       "    \n",
       "&lt;/script&gt;\n",
       "&lt;/html&gt;\" style=\"position:absolute;width:100%;height:100%;left:0;top:0;border:none !important;\" allowfullscreen webkitallowfullscreen mozallowfullscreen></iframe></div></div>"
      ],
      "text/plain": [
       "<folium.folium.Map at 0x213aad571c0>"
      ]
     },
     "execution_count": 7,
     "metadata": {},
     "output_type": "execute_result"
    }
   ],
   "source": [
    "#replace the ... with the correct latitudes and longitudes\n",
    "penn_lat =  39.9526 #SOLUTION\n",
    "penn_long = -75.1652 #SOLUTION\n",
    "port_au_prince_lat = 18.5333 #SOLUTION\n",
    "port_au_prince_long = -72.3333 #SOLUTION\n",
    "createMap([33,-100], 2, [port_au_prince_lat, port_au_prince_long], 'Port-au-Prince (Haiti)', [penn_lat, penn_long], 'Philadelphia, PA (13 Colonies)')"
   ]
  },
  {
   "cell_type": "raw",
   "metadata": {
    "vscode": {
     "languageId": "raw"
    }
   },
   "source": [
    "# END SOLUTION"
   ]
  },
  {
   "cell_type": "markdown",
   "metadata": {},
   "source": [
    "Now you can check your work by running the grader check below. If it passes, great job, go on to the next section! \n",
    "\n",
    "If it fails, don't worry, you just need to go back and try again."
   ]
  },
  {
   "cell_type": "raw",
   "metadata": {
    "vscode": {
     "languageId": "raw"
    }
   },
   "source": [
    "# BEGIN TESTS"
   ]
  },
  {
   "cell_type": "code",
   "execution_count": 8,
   "metadata": {},
   "outputs": [
    {
     "data": {
      "text/plain": [
       "True"
      ]
     },
     "execution_count": 8,
     "metadata": {},
     "output_type": "execute_result"
    }
   ],
   "source": [
    "39 <= penn_lat <= 40"
   ]
  },
  {
   "cell_type": "code",
   "execution_count": 9,
   "metadata": {},
   "outputs": [
    {
     "data": {
      "text/plain": [
       "True"
      ]
     },
     "execution_count": 9,
     "metadata": {},
     "output_type": "execute_result"
    }
   ],
   "source": [
    "-76 <= penn_long <= -75"
   ]
  },
  {
   "cell_type": "code",
   "execution_count": 10,
   "metadata": {},
   "outputs": [
    {
     "data": {
      "text/plain": [
       "True"
      ]
     },
     "execution_count": 10,
     "metadata": {},
     "output_type": "execute_result"
    }
   ],
   "source": [
    "18 <= port_au_prince_lat <= 19"
   ]
  },
  {
   "cell_type": "code",
   "execution_count": 11,
   "metadata": {},
   "outputs": [
    {
     "data": {
      "text/plain": [
       "True"
      ]
     },
     "execution_count": 11,
     "metadata": {},
     "output_type": "execute_result"
    }
   ],
   "source": [
    "-73 <= port_au_prince_long <= -72"
   ]
  },
  {
   "cell_type": "raw",
   "metadata": {
    "vscode": {
     "languageId": "raw"
    }
   },
   "source": [
    "# END TESTS"
   ]
  },
  {
   "cell_type": "raw",
   "metadata": {
    "vscode": {
     "languageId": "raw"
    }
   },
   "source": [
    "# END QUESTION"
   ]
  },
  {
   "cell_type": "markdown",
   "metadata": {},
   "source": [
    "**Question 2.2** Look at the map above. Which of the following statements is correct? \n",
    "\n",
    "Port-au-Prince (Haiti) and Philadephia, PA (USA) have...\n",
    "1. similar latitudes and similar longitudes.\n",
    "2. similar latitudes, but different longitudes.\n",
    "3. different latitudes, but similar longitudes.\n",
    "4. different latitudes and different longitudes.\n",
    "\n",
    "Answer in the code cell below, by setting the name (variable) `correct` equal to 1, 2, 3 or 4."
   ]
  },
  {
   "cell_type": "raw",
   "metadata": {
    "vscode": {
     "languageId": "raw"
    }
   },
   "source": [
    "# BEGIN QUESTION\n",
    "name: q22"
   ]
  },
  {
   "cell_type": "raw",
   "metadata": {
    "vscode": {
     "languageId": "raw"
    }
   },
   "source": [
    "# BEGIN SOLUTION"
   ]
  },
  {
   "cell_type": "code",
   "execution_count": 12,
   "metadata": {},
   "outputs": [],
   "source": [
    "correct = 3 #SOLUTION"
   ]
  },
  {
   "cell_type": "raw",
   "metadata": {
    "vscode": {
     "languageId": "raw"
    }
   },
   "source": [
    "# END SOLUTION"
   ]
  },
  {
   "cell_type": "raw",
   "metadata": {
    "vscode": {
     "languageId": "raw"
    }
   },
   "source": [
    "# BEGIN TESTS"
   ]
  },
  {
   "cell_type": "code",
   "execution_count": 13,
   "metadata": {},
   "outputs": [
    {
     "data": {
      "text/plain": [
       "True"
      ]
     },
     "execution_count": 13,
     "metadata": {},
     "output_type": "execute_result"
    }
   ],
   "source": [
    "correct == 3"
   ]
  },
  {
   "cell_type": "raw",
   "metadata": {
    "vscode": {
     "languageId": "raw"
    }
   },
   "source": [
    "# END TESTS"
   ]
  },
  {
   "cell_type": "raw",
   "metadata": {
    "vscode": {
     "languageId": "raw"
    }
   },
   "source": [
    "# END QUESTION"
   ]
  },
  {
   "cell_type": "markdown",
   "metadata": {},
   "source": [
    "Run the code cell below to watch the video \"Why all world maps are wrong\" and answer question 2.3."
   ]
  },
  {
   "cell_type": "code",
   "execution_count": 14,
   "metadata": {},
   "outputs": [
    {
     "data": {
      "image/jpeg": "[encoded data removed]",
      "text/html": [
       "\n",
       "        <iframe\n",
       "            width=\"400\"\n",
       "            height=\"300\"\n",
       "            src=\"https://www.youtube.com/embed/kIID5FDi2JQ\"\n",
       "            frameborder=\"0\"\n",
       "            allowfullscreen\n",
       "            \n",
       "        ></iframe>\n",
       "        "
      ],
      "text/plain": [
       "<IPython.lib.display.YouTubeVideo at 0x213ce948670>"
      ]
     },
     "execution_count": 14,
     "metadata": {},
     "output_type": "execute_result"
    }
   ],
   "source": [
    "# How accurate is the weather forecast?\n",
    "# The original URL is: \n",
    "#https://youtu.be/kIID5FDi2JQ\n",
    "YouTubeVideo(\"kIID5FDi2JQ\")"
   ]
  },
  {
   "cell_type": "markdown",
   "metadata": {},
   "source": [
    "**Question 2.3:** What do geographers call the projection of the 2D map created after question 2.1?\n",
    "1. Mercator Projection\n",
    "2. True Projection\n",
    "3. Gall-Peters Projection\n",
    "4. Winkel Tripel Projection\n",
    "\n",
    "Answer in the code cell below, by setting the name (variable) `projection` equal to 1, 2, 3 or 4."
   ]
  },
  {
   "cell_type": "raw",
   "metadata": {
    "vscode": {
     "languageId": "raw"
    }
   },
   "source": [
    "# BEGIN QUESTION\n",
    "name: q23"
   ]
  },
  {
   "cell_type": "raw",
   "metadata": {
    "vscode": {
     "languageId": "raw"
    }
   },
   "source": [
    "# BEGIN SOLUTION"
   ]
  },
  {
   "cell_type": "code",
   "execution_count": 15,
   "metadata": {},
   "outputs": [],
   "source": [
    "projection = 1 #SOLUTION"
   ]
  },
  {
   "cell_type": "raw",
   "metadata": {
    "vscode": {
     "languageId": "raw"
    }
   },
   "source": [
    "# END SOLUTION"
   ]
  },
  {
   "cell_type": "raw",
   "metadata": {
    "vscode": {
     "languageId": "raw"
    }
   },
   "source": [
    "# BEGIN TESTS"
   ]
  },
  {
   "cell_type": "code",
   "execution_count": 16,
   "metadata": {},
   "outputs": [
    {
     "data": {
      "text/plain": [
       "True"
      ]
     },
     "execution_count": 16,
     "metadata": {},
     "output_type": "execute_result"
    }
   ],
   "source": [
    "projection == 1"
   ]
  },
  {
   "cell_type": "raw",
   "metadata": {
    "vscode": {
     "languageId": "raw"
    }
   },
   "source": [
    "# END TESTS"
   ]
  },
  {
   "cell_type": "raw",
   "metadata": {
    "vscode": {
     "languageId": "raw"
    }
   },
   "source": [
    "# END QUESTION"
   ]
  },
  {
   "cell_type": "markdown",
   "metadata": {},
   "source": [
    "# 2.2 Uneven Regional Economic Growth - USA versus Haiti\n",
    "\n",
    "In lecture, we have discussed the story of Haiti and the uneven economic development during and after colonization. Let's look explore data and compare Haiti and the USA by looking at merchandise export over the years. Do we see the same growth? Are their any data that stands out? Why?\n",
    "\n",
    "## 2.2.1 History: What too few textbooks told you\n",
    "\n",
    "Before we look at data. Let's run the code cell below to watch a TEDEd talk on the atlantic slave trade. This video will help with the next question 2.4."
   ]
  },
  {
   "cell_type": "code",
   "execution_count": 17,
   "metadata": {},
   "outputs": [
    {
     "data": {
      "image/jpeg": "[encoded data removed]",
      "text/html": [
       "\n",
       "        <iframe\n",
       "            width=\"400\"\n",
       "            height=\"300\"\n",
       "            src=\"https://www.youtube.com/embed/3NXC4Q_4JVg\"\n",
       "            frameborder=\"0\"\n",
       "            allowfullscreen\n",
       "            \n",
       "        ></iframe>\n",
       "        "
      ],
      "text/plain": [
       "<IPython.lib.display.YouTubeVideo at 0x213ce948640>"
      ]
     },
     "execution_count": 17,
     "metadata": {},
     "output_type": "execute_result"
    }
   ],
   "source": [
    "# The original URL is: \n",
    "# https://youtu.be/3NXC4Q_4JVg\n",
    "\n",
    "YouTubeVideo(\"3NXC4Q_4JVg\")"
   ]
  },
  {
   "cell_type": "markdown",
   "metadata": {},
   "source": [
    "**Question 2.4:** The trade in Africans for enslaved labor fueled a/an _____ that led to more territory take over and more captives to sell into bondage.\n",
    "\n",
    "1. agricultural economy\n",
    "2. pan-African identity\n",
    "3. arms race\n",
    "4. manufacturing hub\n",
    "\n",
    "Answer in the code cell below, by setting the name (variable) `result` equal to 1, 2, 3 or 4."
   ]
  },
  {
   "cell_type": "raw",
   "metadata": {
    "vscode": {
     "languageId": "raw"
    }
   },
   "source": [
    "# BEGIN QUESTION\n",
    "name: q24"
   ]
  },
  {
   "cell_type": "raw",
   "metadata": {
    "vscode": {
     "languageId": "raw"
    }
   },
   "source": [
    "# BEGIN SOLUTION"
   ]
  },
  {
   "cell_type": "code",
   "execution_count": 18,
   "metadata": {},
   "outputs": [],
   "source": [
    "result = 3 #SOLUTION"
   ]
  },
  {
   "cell_type": "raw",
   "metadata": {
    "vscode": {
     "languageId": "raw"
    }
   },
   "source": [
    "# END SOLUTION"
   ]
  },
  {
   "cell_type": "raw",
   "metadata": {
    "vscode": {
     "languageId": "raw"
    }
   },
   "source": [
    "# BEGIN TESTS"
   ]
  },
  {
   "cell_type": "code",
   "execution_count": 19,
   "metadata": {},
   "outputs": [
    {
     "data": {
      "text/plain": [
       "True"
      ]
     },
     "execution_count": 19,
     "metadata": {},
     "output_type": "execute_result"
    }
   ],
   "source": [
    "result == 3"
   ]
  },
  {
   "cell_type": "raw",
   "metadata": {
    "vscode": {
     "languageId": "raw"
    }
   },
   "source": [
    "# END TESTS"
   ]
  },
  {
   "cell_type": "raw",
   "metadata": {
    "vscode": {
     "languageId": "raw"
    }
   },
   "source": [
    "# END QUESTION"
   ]
  },
  {
   "cell_type": "markdown",
   "metadata": {},
   "source": [
    "Now let's get started with some **data exploration**!\n",
    "## 2.2.2 Merchandise Export over the years\n",
    "We are ready to import and visualize data. What can we learn about economies of the USA and Haiti, by looking at merchandise export over the years?\n",
    "The dataset used in this section is from the World Trade Organization (WTO): https://stats.wto.org/.\n",
    "\n",
    "**STEP 1:** Gather the data from WTO, and upload it in our notebook as a table. \n",
    "\n",
    "Just run the cell below to see tabular data for both locations."
   ]
  },
  {
   "cell_type": "code",
   "execution_count": 20,
   "metadata": {},
   "outputs": [
    {
     "data": {
      "text/html": [
       "<table border=\"1\" class=\"dataframe\">\n",
       "    <thead>\n",
       "        <tr>\n",
       "            <th>Year</th> <th>Haiti</th> <th>USA</th>\n",
       "        </tr>\n",
       "    </thead>\n",
       "    <tbody>\n",
       "        <tr>\n",
       "            <td>1948</td> <td>30   </td> <td>12653</td>\n",
       "        </tr>\n",
       "        <tr>\n",
       "            <td>1949</td> <td>35   </td> <td>12051</td>\n",
       "        </tr>\n",
       "        <tr>\n",
       "            <td>1950</td> <td>39   </td> <td>9993 </td>\n",
       "        </tr>\n",
       "        <tr>\n",
       "            <td>1951</td> <td>51   </td> <td>13967</td>\n",
       "        </tr>\n",
       "        <tr>\n",
       "            <td>1952</td> <td>52   </td> <td>13203</td>\n",
       "        </tr>\n",
       "        <tr>\n",
       "            <td>1953</td> <td>38   </td> <td>12262</td>\n",
       "        </tr>\n",
       "        <tr>\n",
       "            <td>1954</td> <td>55   </td> <td>12854</td>\n",
       "        </tr>\n",
       "        <tr>\n",
       "            <td>1955</td> <td>36   </td> <td>14291</td>\n",
       "        </tr>\n",
       "        <tr>\n",
       "            <td>1956</td> <td>42   </td> <td>17333</td>\n",
       "        </tr>\n",
       "        <tr>\n",
       "            <td>1957</td> <td>34   </td> <td>19495</td>\n",
       "        </tr>\n",
       "    </tbody>\n",
       "</table>\n",
       "<p>... (66 rows omitted)</p>"
      ],
      "text/plain": [
       "Year | Haiti | USA\n",
       "1948 | 30    | 12653\n",
       "1949 | 35    | 12051\n",
       "1950 | 39    | 9993\n",
       "1951 | 51    | 13967\n",
       "1952 | 52    | 13203\n",
       "1953 | 38    | 12262\n",
       "1954 | 55    | 12854\n",
       "1955 | 36    | 14291\n",
       "1956 | 42    | 17333\n",
       "1957 | 34    | 19495\n",
       "... (66 rows omitted)"
      ]
     },
     "execution_count": 20,
     "metadata": {},
     "output_type": "execute_result"
    }
   ],
   "source": [
    "# Data comparing US versus haiti merchandise export between 1948 and 2023: Exports in million US $ \n",
    "exports_data = Table.read_table('WtoData_20240516_export.csv')\n",
    "exports_data"
   ]
  },
  {
   "cell_type": "markdown",
   "metadata": {},
   "source": [
    "Take a moment to look at the table above, maybe we can see that there is growth, but it is very difficult to compare the growth trends by just looking at a table. The next step will help!\n",
    "\n",
    "**STEP 2**: Visualize the table data by plotting the numbers for both locations. \n",
    "The cell below includes some helper code that will make plotting this information easier. Just run the cell and go to the next one."
   ]
  },
  {
   "cell_type": "code",
   "execution_count": 21,
   "metadata": {},
   "outputs": [],
   "source": [
    "# This is a helper function used in the cells below, just run it (do not change anything!)\n",
    "def plotExportGrowth(countryName, myTable, rowStart, rowEnd):\n",
    "      ''' This function plots the export in Merchandise Export for a specific country '''\n",
    "      myTable.plot('Year', countryName)\n",
    "      plt.title('Merchandise Export (millions of $)\\n'+ countryName)\n",
    "      export_start = exports_data.column(countryName).item(rowStart)\n",
    "      export_end = exports_data.column(countryName).item(rowEnd)\n",
    "      growth = round(export_end/export_start, 2)\n",
    "      print(countryName,'increased from '+ str(export_start) + ' to ' + \n",
    "            str(export_end)+' million $, growth factor = ' + str(growth))"
   ]
  },
  {
   "cell_type": "markdown",
   "metadata": {},
   "source": [
    "The next coding cell will use the helper code above to calculate a growth factor and plot the data for Haiti and the USA. Run the coding cell below, observe and note the differences between the 2 countries. The plots should help you answer question 2.5."
   ]
  },
  {
   "cell_type": "code",
   "execution_count": 22,
   "metadata": {},
   "outputs": [
    {
     "name": "stdout",
     "output_type": "stream",
     "text": [
      "Merchandise Export, 1948 to 2023:\n",
      "Haiti increased from 30 to 896 million $, growth factor = 29.87\n",
      "USA increased from 12653 to 2019542 million $, growth factor = 159.61\n"
     ]
    },
    {
     "data": {
      "image/png": "[encoded data removed]",
      "text/plain": [
       "<Figure size 432x432 with 1 Axes>"
      ]
     },
     "metadata": {},
     "output_type": "display_data"
    },
    {
     "data": {
      "image/png": "[encoded data removed]",
      "text/plain": [
       "<Figure size 432x432 with 1 Axes>"
      ]
     },
     "metadata": {},
     "output_type": "display_data"
    }
   ],
   "source": [
    "print('Merchandise Export, 1948 to 2023:')\n",
    "# Call the helper function to view data on Haiti\n",
    "plotExportGrowth('Haiti', exports_data, 0, 75)\n",
    "# Call the helper function to view data on USA\n",
    "plotExportGrowth('USA', exports_data, 0, 75)"
   ]
  },
  {
   "cell_type": "markdown",
   "metadata": {},
   "source": [
    "**Question 2.5:**\n",
    "What does the data show? Does Haiti and the USA show differences in merchandise export growth over the years? Are there any decades/years in particular that stand out? Why could this be? \n",
    "\n",
    "Review what you learned in lecture on Haiti. In a couple of sentences, share your thoughts regarding your data observations and possible reasons.\n"
   ]
  },
  {
   "cell_type": "raw",
   "metadata": {
    "vscode": {
     "languageId": "raw"
    }
   },
   "source": [
    "# BEGIN QUESTION\n",
    "name: q25\n",
    "manual: True"
   ]
  },
  {
   "cell_type": "raw",
   "metadata": {
    "vscode": {
     "languageId": "raw"
    }
   },
   "source": [
    "# BEGIN SOLUTION"
   ]
  },
  {
   "cell_type": "markdown",
   "metadata": {},
   "source": [
    "**SOLUTION:** The plot for Haiti has a lot more noise (lots of ups and downs) compared to the plot for the US. This may imply an unstable economy.\n",
    "Notice Haiti's merchandise export numbers did not grow before 1970, followed by a some growth followed by a drastic dip in the 1990s. What happened in Haiti in the 1990s that affected Haiti's export numbers? The merchandise export did not start growing again until 2000. -> TODO: this still needs to get reviewed by Geordie"
   ]
  },
  {
   "cell_type": "raw",
   "metadata": {
    "vscode": {
     "languageId": "raw"
    }
   },
   "source": [
    "# END SOLUTION"
   ]
  },
  {
   "cell_type": "raw",
   "metadata": {
    "vscode": {
     "languageId": "raw"
    }
   },
   "source": [
    "# END QUESTION"
   ]
  },
  {
   "cell_type": "markdown",
   "metadata": {},
   "source": [
    "**CONGRATULATIONS!** You just finished this jupyter notebook assignment! \n",
    "\n",
    "Be sure to...\n",
    "\n",
    "- run all of the tests and verify that they all pass, \n",
    "- check your answers for the open response questions,\n",
    "- choose **Download as PDF** from the **File** menu,\n",
    "- submit the .pdf file on **canvas**."
   ]
  }
 ],
 "metadata": {
  "anaconda-cloud": {},
  "kernelspec": {
   "display_name": "Python 3 (ipykernel)",
   "language": "python",
   "name": "python3"
  },
  "language_info": {
   "codemirror_mode": {
    "name": "ipython",
    "version": 3
   },
   "file_extension": ".py",
   "mimetype": "text/x-python",
   "name": "python",
   "nbconvert_exporter": "python",
   "pygments_lexer": "ipython3",
   "version": "3.9.7"
  }
 },
 "nbformat": 4,
 "nbformat_minor": 2
}
